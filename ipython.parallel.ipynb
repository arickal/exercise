{
 "cells": [
  {
   "cell_type": "code",
   "execution_count": 8,
   "metadata": {},
   "outputs": [],
   "source": [
    "def bsm_mcs_valuation(strike):\n",
    "\n",
    "    #\n",
    "    # Monte Carlo valuation of European call option\n",
    "    # in Black-Scholes-Merton model\n",
    "    # bsm_mcs_euro.py\n",
    "    #\n",
    "    import numpy as np\n",
    "\n",
    "    # Parameter Values\n",
    "    S0 = 100.  # initial index level\n",
    "#     K = 105.  # strike price\n",
    "    T = 1.0  # time-to-maturity\n",
    "    r = 0.05  # riskless short rate\n",
    "    sigma = 0.2  # volatility\n",
    "\n",
    "    I = 100000  # number of simulations\n",
    "\n",
    "    # Valuation Algorithm\n",
    "    z = np.random.standard_normal(I)  # pseudorandom numbers\n",
    "    ST = S0 * np.exp((r - 0.5 * sigma ** 2) * T + sigma * np.sqrt(T) * z)\n",
    "      # index values at maturity\n",
    "    hT = np.maximum(ST - K, 0)  # inner values at maturity\n",
    "    C0 = np.exp(-r * T) * np.sum(hT) / I  # Monte Carlo estimator\n",
    "\n",
    "    return C0\n",
    "    # Result Output\n",
    "#     print(\"Value of the European Call Option %5.3f\" % C0)"
   ]
  },
  {
   "cell_type": "code",
   "execution_count": 9,
   "metadata": {},
   "outputs": [],
   "source": [
    "def seq_value(n):\n",
    "    \n",
    "    strikes = np.linspace(80,120,n)\n",
    "    option_values = []\n",
    "    for strike in strikes:\n",
    "        option_values.append(bsm_mcs_valuation(strike))\n",
    "    return strikes, option_values"
   ]
  },
  {
   "cell_type": "code",
   "execution_count": 11,
   "metadata": {},
   "outputs": [
    {
     "name": "stdout",
     "output_type": "stream",
     "text": [
      "CPU times: user 10 s, sys: 859 ms, total: 10.9 s\n",
      "Wall time: 6.33 s\n"
     ]
    }
   ],
   "source": [
    "n = 1000\n",
    "%time strikes, option_values_seq = seq_value(n)"
   ]
  },
  {
   "cell_type": "code",
   "execution_count": 13,
   "metadata": {},
   "outputs": [],
   "source": [
    "from IPython.parallel import Client\n",
    "c = Client(profile='default')\n",
    "view = c.load_balanced_view()"
   ]
  },
  {
   "cell_type": "code",
   "execution_count": 14,
   "metadata": {},
   "outputs": [],
   "source": [
    "def par_value(n):\n",
    "    strikes = np.linspace(80,120,n)\n",
    "    option_values = []\n",
    "    for strike in strikes:\n",
    "        value = view.apply_async(bsm_mcs_valuation, strike)\n",
    "        option_values.append(value)\n",
    "    c.wait()\n",
    "    return strikes, option_values"
   ]
  },
  {
   "cell_type": "code",
   "execution_count": 17,
   "metadata": {},
   "outputs": [
    {
     "name": "stdout",
     "output_type": "stream",
     "text": [
      "CPU times: user 10.5 s, sys: 711 ms, total: 11.2 s\n",
      "Wall time: 13.9 s\n"
     ]
    }
   ],
   "source": [
    "%time strikes, option_values_seq = par_value(n)"
   ]
  },
  {
   "cell_type": "code",
   "execution_count": null,
   "metadata": {},
   "outputs": [],
   "source": [
    "# ipython.parallel is slower"
   ]
  }
 ],
 "metadata": {
  "kernelspec": {
   "display_name": "Python 3",
   "language": "python",
   "name": "python3"
  },
  "language_info": {
   "codemirror_mode": {
    "name": "ipython",
    "version": 3
   },
   "file_extension": ".py",
   "mimetype": "text/x-python",
   "name": "python",
   "nbconvert_exporter": "python",
   "pygments_lexer": "ipython3",
   "version": "3.6.5"
  }
 },
 "nbformat": 4,
 "nbformat_minor": 2
}
